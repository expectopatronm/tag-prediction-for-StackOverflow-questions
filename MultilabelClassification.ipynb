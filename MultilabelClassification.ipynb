{
 "nbformat": 4,
 "nbformat_minor": 0,
 "metadata": {
  "colab": {
   "name": "Copy of week1-MultilabelClassification.ipynb",
   "version": "0.3.2",
   "provenance": []
  },
  "kernelspec": {
   "display_name": "Python 3",
   "language": "python",
   "name": "python3"
  },
  "accelerator": "GPU",
  "pycharm": {
   "stem_cell": {
    "cell_type": "raw",
    "source": [],
    "metadata": {
     "collapsed": false
    }
   }
  }
 },
 "cells": [
  {
   "metadata": {
    "id": "8T9O6qG88Mv3",
    "colab_type": "text"
   },
   "cell_type": "markdown",
   "source": [
    "# Predict tags on StackOverflow with linear models"
   ]
  },
  {
   "metadata": {
    "id": "NxGoEf1x8Mv6",
    "colab_type": "text"
   },
   "cell_type": "markdown",
   "source": [
    "We learn how to predict tags for posts from [StackOverflow](https://stackoverflow.com). To solve this task you will use multilabel classification approach."
   ]
  },
  {
   "cell_type": "markdown",
   "source": [
    "### Text preprocessing"
   ],
   "metadata": {
    "collapsed": false
   }
  },
  {
   "metadata": {
    "id": "gfvpOHYy8MwL",
    "colab_type": "text"
   },
   "cell_type": "markdown",
   "source": [
    "For this and most of the following assignments you will need to use a list of stop words. It can be downloaded from *nltk*:"
   ]
  },
  {
   "metadata": {
    "id": "7EK_BTP98MwM",
    "colab_type": "code",
    "colab": {
     "base_uri": "https://localhost:8080/",
     "height": 51
    },
    "outputId": "c8a1ae77-06a6-4d0a-a9c4-6e5b450e4934",
    "pycharm": {
     "is_executing": false
    }
   },
   "cell_type": "code",
   "source": [
    "import nltk\n",
    "nltk.download('stopwords')\n",
    "from nltk.corpus import stopwords"
   ],
   "execution_count": 2,
   "outputs": [
    {
     "name": "stderr",
     "text": [
      "[nltk_data] Downloading package stopwords to\n",
      "[nltk_data]     C:\\Users\\Shankar\\AppData\\Roaming\\nltk_data...\n",
      "[nltk_data]   Package stopwords is already up-to-date!\n"
     ],
     "output_type": "stream"
    }
   ]
  },
  {
   "metadata": {
    "id": "Eiub3QBQ8MwP",
    "colab_type": "text"
   },
   "cell_type": "markdown",
   "source": [
    "In this task you will deal with a dataset of post titles from StackOverflow. You are provided a split to 3 sets: *train*, *validation* and *test*. All corpora (except for *test*) contain titles of the posts and corresponding tags (100 tags are available). The *test* set is provided for Coursera's grading and doesn't contain answers. Upload the corpora using *pandas* and look at the data:"
   ]
  },
  {
   "metadata": {
    "id": "a_uPC0b08MwP",
    "colab_type": "code",
    "colab": {},
    "pycharm": {
     "is_executing": false
    }
   },
   "cell_type": "code",
   "source": [
    "from ast import literal_eval\n",
    "import pandas as pd\n",
    "import numpy as np"
   ],
   "execution_count": 3,
   "outputs": []
  },
  {
   "metadata": {
    "id": "1Oa3DWsi8MwT",
    "colab_type": "code",
    "colab": {},
    "pycharm": {
     "is_executing": false
    }
   },
   "cell_type": "code",
   "source": [
    "def read_data(filename):\n",
    "    data = pd.read_csv(filename, sep='\\t')\n",
    "    data['tags'] = data['tags'].apply(literal_eval)\n",
    "    return data"
   ],
   "execution_count": 4,
   "outputs": []
  },
  {
   "metadata": {
    "id": "iX4gqQcc8MwW",
    "colab_type": "code",
    "colab": {},
    "pycharm": {
     "is_executing": false
    }
   },
   "cell_type": "code",
   "source": [
    "train = read_data('data/train.tsv')\n",
    "validation = read_data('data/validation.tsv')\n",
    "test = pd.read_csv('data/test.tsv', sep='\\t')"
   ],
   "execution_count": 5,
   "outputs": []
  },
  {
   "metadata": {
    "id": "1q224HAh8Mwa",
    "colab_type": "code",
    "colab": {
     "base_uri": "https://localhost:8080/",
     "height": 204
    },
    "outputId": "9f2023e5-16c2-4888-b2f3-59fc99215cf2",
    "pycharm": {
     "is_executing": false
    }
   },
   "cell_type": "code",
   "source": [
    "train.head()"
   ],
   "execution_count": 6,
   "outputs": [
    {
     "data": {
      "text/plain": "                                               title                  tags\n0                How to draw a stacked dotplot in R?                   [r]\n1  mysql select all records where a datetime fiel...          [php, mysql]\n2             How to terminate windows phone 8.1 app                  [c#]\n3  get current time in a specific country via jquery  [javascript, jquery]\n4                      Configuring Tomcat to Use SSL                [java]",
      "text/html": "<div>\n<style scoped>\n    .dataframe tbody tr th:only-of-type {\n        vertical-align: middle;\n    }\n\n    .dataframe tbody tr th {\n        vertical-align: top;\n    }\n\n    .dataframe thead th {\n        text-align: right;\n    }\n</style>\n<table border=\"1\" class=\"dataframe\">\n  <thead>\n    <tr style=\"text-align: right;\">\n      <th></th>\n      <th>title</th>\n      <th>tags</th>\n    </tr>\n  </thead>\n  <tbody>\n    <tr>\n      <th>0</th>\n      <td>How to draw a stacked dotplot in R?</td>\n      <td>[r]</td>\n    </tr>\n    <tr>\n      <th>1</th>\n      <td>mysql select all records where a datetime fiel...</td>\n      <td>[php, mysql]</td>\n    </tr>\n    <tr>\n      <th>2</th>\n      <td>How to terminate windows phone 8.1 app</td>\n      <td>[c#]</td>\n    </tr>\n    <tr>\n      <th>3</th>\n      <td>get current time in a specific country via jquery</td>\n      <td>[javascript, jquery]</td>\n    </tr>\n    <tr>\n      <th>4</th>\n      <td>Configuring Tomcat to Use SSL</td>\n      <td>[java]</td>\n    </tr>\n  </tbody>\n</table>\n</div>"
     },
     "metadata": {},
     "output_type": "execute_result",
     "execution_count": 6
    }
   ]
  },
  {
   "metadata": {
    "id": "x-GCL1498Mwc",
    "colab_type": "text"
   },
   "cell_type": "markdown",
   "source": [
    "As you can see, *title* column contains titles of the posts and *tags* column contains the tags. It could be noticed that a number of tags for a post is not fixed and could be as many as necessary."
   ]
  },
  {
   "metadata": {
    "id": "7-Xq_p378Mwd",
    "colab_type": "text"
   },
   "cell_type": "markdown",
   "source": [
    "For a more comfortable usage, initialize *X_train*, *X_val*, *X_test*, *y_train*, *y_val*."
   ]
  },
  {
   "metadata": {
    "id": "BABUTNLm8Mwe",
    "colab_type": "code",
    "colab": {},
    "pycharm": {
     "is_executing": false
    }
   },
   "cell_type": "code",
   "source": [
    "X_train, y_train = train['title'].values, train['tags'].values\n",
    "X_val, y_val = validation['title'].values, validation['tags'].values\n",
    "X_test = test['title'].values"
   ],
   "execution_count": 7,
   "outputs": []
  },
  {
   "metadata": {
    "id": "r0U4S5PV8Mwh",
    "colab_type": "text"
   },
   "cell_type": "markdown",
   "source": [
    "One of the most known difficulties when working with natural data is that it's unstructured. For example, if you use it \"as is\" and extract tokens just by splitting the titles by whitespaces, you will see that there are many \"weird\" tokens like *3.5?*, *\"Flip*, etc. To prevent the problems, it's usually useful to prepare the data somehow. In this task you'll write a function, which will be also used in the other assignments. \n",
    "\n",
    "**(TextPrepare)** - Implement the function *text_prepare* following the instructions. After that, run the function *test_test_prepare* to test it on tiny cases and submit it to Coursera."
   ]
  },
  {
   "metadata": {
    "id": "dx3-T_dG8Mwj",
    "colab_type": "code",
    "colab": {},
    "pycharm": {
     "is_executing": false
    }
   },
   "cell_type": "code",
   "source": [
    "import re"
   ],
   "execution_count": 8,
   "outputs": []
  },
  {
   "metadata": {
    "id": "9Zh_IXLk8Mwl",
    "colab_type": "code",
    "colab": {},
    "pycharm": {
     "is_executing": false
    }
   },
   "cell_type": "code",
   "source": [
    "REPLACE_BY_SPACE_RE = re.compile('[/(){}\\[\\]\\|@,;]')\n",
    "BAD_SYMBOLS_RE = re.compile('[^0-9a-z #+_]')\n",
    "STOPWORDS = set(stopwords.words('english'))\n",
    "\n",
    "def text_prepare(text):\n",
    "    \"\"\"\n",
    "        text: a string\n",
    "        \n",
    "        return: modified initial string\n",
    "    \"\"\"\n",
    "    text = text.lower() # lowercase text\n",
    "    text = re.sub(REPLACE_BY_SPACE_RE, \" \", text)# replace REPLACE_BY_SPACE_RE symbols by space in text\n",
    "    text = re.sub(BAD_SYMBOLS_RE, \"\", text)# delete symbols which are in BAD_SYMBOLS_RE from text\n",
    "   #  print(text)\n",
    "    text = ' '.join([word for word in text.split() if word not in STOPWORDS])  # Remove stopwords\n",
    "   # print(text)\n",
    "    text = text.strip()\n",
    "    #text = re.sub(' +', ' ', text)\n",
    "    # print(text)\n",
    "    return text"
   ],
   "execution_count": 9,
   "outputs": []
  },
  {
   "metadata": {
    "id": "MjTxnH328Mwo",
    "colab_type": "code",
    "colab": {},
    "pycharm": {
     "is_executing": false
    }
   },
   "cell_type": "code",
   "source": [
    "def test_text_prepare():\n",
    "    examples = [\"SQL Server - any equivalent of Excel's CHOOSE function?\",\n",
    "                \"How to free c++ memory vector<int> * arr?\"]\n",
    "    answers = [\"sql server equivalent excels choose function\", \n",
    "               \"free c++ memory vectorint arr\"]\n",
    "    for ex, ans in zip(examples, answers):\n",
    "        if text_prepare(ex) != ans:\n",
    "            return \"Wrong answer for the case: '%s'\" % ex\n",
    "    return 'Basic tests are passed.'"
   ],
   "execution_count": 10,
   "outputs": []
  },
  {
   "metadata": {
    "id": "y5zW9W3_8Mwr",
    "colab_type": "code",
    "colab": {
     "base_uri": "https://localhost:8080/",
     "height": 34
    },
    "outputId": "e8573c29-08a3-465a-a3cf-4be23008991a",
    "pycharm": {
     "is_executing": false
    }
   },
   "cell_type": "code",
   "source": [
    "print(test_text_prepare())"
   ],
   "execution_count": 11,
   "outputs": [
    {
     "name": "stdout",
     "text": [
      "Basic tests are passed.\n"
     ],
     "output_type": "stream"
    }
   ]
  },
  {
   "metadata": {
    "id": "Ciz9UK5q8Mwu",
    "colab_type": "text"
   },
   "cell_type": "markdown",
   "source": [
    "Run your implementation for questions from file *text_prepare_tests.tsv* to earn the points."
   ]
  },
  {
   "metadata": {
    "id": "p8xZF2bs8Mwu",
    "colab_type": "code",
    "colab": {
     "base_uri": "https://localhost:8080/",
     "height": 102
    },
    "outputId": "a73e077b-b40b-47b5-c02c-a2779ee1a1cb",
    "pycharm": {
     "is_executing": false
    }
   },
   "cell_type": "code",
   "source": [
    "prepared_questions = []\n",
    "for line in open('data/text_prepare_tests.tsv', encoding='utf-8'):\n",
    "    line = text_prepare(line.strip())\n",
    "    prepared_questions.append(line)\n",
    "text_prepare_results = '\\n'.join(prepared_questions)"
   ],
   "execution_count": 12,
   "outputs": []
  },
  {
   "metadata": {
    "id": "fU08srCH8Mwx",
    "colab_type": "text"
   },
   "cell_type": "markdown",
   "source": [
    "Now we can preprocess the titles using function *text_prepare* and  making sure that the headers don't have bad symbols:"
   ]
  },
  {
   "metadata": {
    "id": "ptWUCRi28Mwy",
    "colab_type": "code",
    "colab": {},
    "pycharm": {
     "is_executing": false
    }
   },
   "cell_type": "code",
   "source": [
    "X_train = [text_prepare(x) for x in X_train]\n",
    "X_val = [text_prepare(x) for x in X_val]\n",
    "X_test = [text_prepare(x) for x in X_test]"
   ],
   "execution_count": 13,
   "outputs": []
  },
  {
   "metadata": {
    "id": "hcxRCyQS8Mw2",
    "colab_type": "code",
    "colab": {
     "base_uri": "https://localhost:8080/",
     "height": 68
    },
    "outputId": "5f6eae75-8da7-439d-8a76-6201547d3f7a",
    "pycharm": {
     "is_executing": false
    }
   },
   "cell_type": "code",
   "source": [
    "X_train[:3]"
   ],
   "execution_count": 14,
   "outputs": [
    {
     "data": {
      "text/plain": "['draw stacked dotplot r',\n 'mysql select records datetime field less specified value',\n 'terminate windows phone 81 app']"
     },
     "metadata": {},
     "output_type": "execute_result",
     "execution_count": 14
    }
   ]
  },
  {
   "metadata": {
    "id": "0IkUDAUF8Mw6",
    "colab_type": "text"
   },
   "cell_type": "markdown",
   "source": [
    "For each tag and for each word calculate how many times they occur in the train corpus. \n",
    "\n",
    "**Task 2 (WordsTagsCount).** Find 3 most popular tags and 3 most popular words in the train data and submit the results to earn the points."
   ]
  },
  {
   "metadata": {
    "id": "lQ0veBQ48Mw8",
    "colab_type": "code",
    "colab": {},
    "pycharm": {
     "is_executing": false
    }
   },
   "cell_type": "code",
   "source": [
    "from collections import Counter\n",
    "# Dictionary of all tags from train corpus with their counts.\n",
    "tags_counts = Counter() #{}\n",
    "# Dictionary of all words from train corpus with their counts.\n",
    "words_counts = Counter() #{}\n",
    "\n",
    "for sentence in X_train:\n",
    "    for word in sentence.split():\n",
    "        words_counts[word] += 1\n",
    "\n",
    "for l in y_train:\n",
    "    for tag in l:\n",
    "        tags_counts[tag] += 1"
   ],
   "execution_count": 15,
   "outputs": []
  },
  {
   "metadata": {
    "id": "jecp2qBu8Mw9",
    "colab_type": "text"
   },
   "cell_type": "markdown",
   "source": [
    "We are assuming that *tags_counts* and *words_counts* are dictionaries like `{'some_word_or_tag': frequency}`. After applying the sorting procedure, results will be look like this: `[('most_popular_word_or_tag', frequency), ('less_popular_word_or_tag', frequency), ...]`. The grader gets the results in the following format (two comma-separated strings with line break):\n",
    "\n",
    "    tag1,tag2,tag3\n",
    "    word1,word2,word3\n",
    "\n",
    "Pay attention that in this assignment you should not submit frequencies or some additional information."
   ]
  },
  {
   "metadata": {
    "id": "qkRdUQRZ8Mw-",
    "colab_type": "code",
    "colab": {
     "base_uri": "https://localhost:8080/",
     "height": 68
    },
    "outputId": "62a4dbbc-e26c-4f57-b743-ec9e87318195",
    "pycharm": {
     "is_executing": false
    }
   },
   "cell_type": "code",
   "source": [
    "most_common_tags = sorted(tags_counts.items(), key=lambda x: x[1], reverse=True)[:3]\n",
    "most_common_words = sorted(words_counts.items(), key=lambda x: x[1], reverse=True)[:3]"
   ],
   "execution_count": 16,
   "outputs": []
  },
  {
   "metadata": {
    "id": "MwGj_P9o8MxB",
    "colab_type": "text"
   },
   "cell_type": "markdown",
   "source": [
    "### Transforming text to a vector\n",
    "\n",
    "Machine Learning algorithms work with numeric data and we cannot use the provided text data \"as is\". There are many ways to transform text data to numeric vectors. In this task you will try to use two of them.\n",
    "\n",
    "#### Bag of words\n",
    "\n",
    "One of the well-known approaches is a *bag-of-words* representation. To create this transformation, follow the steps:\n",
    "1. Find *N* most popular words in train corpus and numerate them. Now we have a dictionary of the most popular words.\n",
    "2. For each title in the corpora create a zero vector with the dimension equals to *N*.\n",
    "3. For each text in the corpora iterate over words which are in the dictionary and increase by 1 the corresponding coordinate.\n",
    "\n",
    "Let's try to do it for a toy example. Imagine that we have *N* = 4 and the list of the most popular words is \n",
    "\n",
    "    ['hi', 'you', 'me', 'are']\n",
    "\n",
    "Then we need to numerate them, for example, like this: \n",
    "\n",
    "    {'hi': 0, 'you': 1, 'me': 2, 'are': 3}\n",
    "\n",
    "And we have the text, which we want to transform to the vector:\n",
    "\n",
    "    'hi how are you'\n",
    "\n",
    "For this text we create a corresponding zero vector \n",
    "\n",
    "    [0, 0, 0, 0]\n",
    "    \n",
    "And iterate over all words, and if the word is in the dictionary, we increase the value of the corresponding position in the vector:\n",
    "\n",
    "    'hi':  [1, 0, 0, 0]\n",
    "    'how': [1, 0, 0, 0] # word 'how' is not in our dictionary\n",
    "    'are': [1, 0, 0, 1]\n",
    "    'you': [1, 1, 0, 1]\n",
    "\n",
    "The resulting vector will be \n",
    "\n",
    "    [1, 1, 0, 1]\n",
    "   \n",
    "Implement the described encoding in the function *my_bag_of_words* with the size of the dictionary equals to 5000. To find the most common words use train data. You can test your code using the function *test_my_bag_of_words*."
   ]
  },
  {
   "metadata": {
    "id": "TUrbjQ95_hEw",
    "colab_type": "code",
    "colab": {},
    "pycharm": {
     "is_executing": false
    }
   },
   "cell_type": "code",
   "source": [
    "most_common_words = sorted(words_counts.items(), key=lambda x: x[1], reverse=True)[:5002]"
   ],
   "execution_count": 17,
   "outputs": []
  },
  {
   "metadata": {
    "id": "PdaUpu96AYyo",
    "colab_type": "code",
    "colab": {},
    "pycharm": {
     "is_executing": false
    }
   },
   "cell_type": "code",
   "source": [
    "WORDS_TO_INDEX = {p[0]:i for i,p in enumerate(most_common_words[:5])}"
   ],
   "execution_count": 18,
   "outputs": []
  },
  {
   "metadata": {
    "id": "3PbsU2VsAcRe",
    "colab_type": "code",
    "colab": {
     "base_uri": "https://localhost:8080/",
     "height": 34
    },
    "outputId": "0e98d22b-1bdc-4cc7-f6de-ad1b63cb8685",
    "pycharm": {
     "is_executing": false
    }
   },
   "cell_type": "code",
   "source": [
    "print(WORDS_TO_INDEX)"
   ],
   "execution_count": 19,
   "outputs": [
    {
     "name": "stdout",
     "text": [
      "{'using': 0, 'php': 1, 'java': 2, 'file': 3, 'javascript': 4}\n"
     ],
     "output_type": "stream"
    }
   ]
  },
  {
   "metadata": {
    "id": "vI38JrXi8MxC",
    "colab_type": "code",
    "colab": {},
    "pycharm": {
     "is_executing": false
    }
   },
   "cell_type": "code",
   "source": [
    "DICT_SIZE = 5000\n",
    "WORDS_TO_INDEX = {p[0]:i for i,p in enumerate(most_common_words[:DICT_SIZE])}\n",
    "INDEX_TO_WORDS = {WORDS_TO_INDEX[k]:k for k in WORDS_TO_INDEX}\n",
    "ALL_WORDS = WORDS_TO_INDEX.keys()\n",
    "\n",
    "def my_bag_of_words(text, words_to_index, dict_size):\n",
    "    \"\"\"\n",
    "        text: a string\n",
    "        dict_size: size of the dictionary\n",
    "        \n",
    "        return a vector which is a bag-of-words representation of 'text'\n",
    "    \"\"\"\n",
    "    result_vector = np.zeros(dict_size)\n",
    "    for word in text.split():\n",
    "      if word in words_to_index :\n",
    "        result_vector[words_to_index[word]] +=1\n",
    "    return result_vector"
   ],
   "execution_count": 20,
   "outputs": []
  },
  {
   "metadata": {
    "id": "xYYhxyUV8MxF",
    "colab_type": "code",
    "colab": {},
    "pycharm": {
     "is_executing": false
    }
   },
   "cell_type": "code",
   "source": [
    "def test_my_bag_of_words():\n",
    "    words_to_index = {'hi': 0, 'you': 1, 'me': 2, 'are': 3}\n",
    "    examples = ['hi how are you']\n",
    "    answers = [[1, 1, 0, 1]]\n",
    "    for ex, ans in zip(examples, answers):\n",
    "        if (my_bag_of_words(ex, words_to_index, 4) != ans).any():\n",
    "            return \"Wrong answer for the case: '%s'\" % ex\n",
    "    return 'Basic tests are passed.'"
   ],
   "execution_count": 21,
   "outputs": []
  },
  {
   "metadata": {
    "id": "trQ7y1Mr8MxH",
    "colab_type": "code",
    "colab": {
     "base_uri": "https://localhost:8080/",
     "height": 34
    },
    "outputId": "26eb5d9e-5334-469f-b854-8aaeb6922565",
    "pycharm": {
     "is_executing": false
    }
   },
   "cell_type": "code",
   "source": [
    "print(test_my_bag_of_words())"
   ],
   "execution_count": 22,
   "outputs": [
    {
     "name": "stdout",
     "text": [
      "Basic tests are passed.\n"
     ],
     "output_type": "stream"
    }
   ]
  },
  {
   "metadata": {
    "id": "atibYSy88MxJ",
    "colab_type": "text"
   },
   "cell_type": "markdown",
   "source": [
    "Now apply the implemented function to all samples (this might take up to a minute):"
   ]
  },
  {
   "metadata": {
    "id": "Vy4KDopQ8MxK",
    "colab_type": "code",
    "colab": {},
    "pycharm": {
     "is_executing": false
    }
   },
   "cell_type": "code",
   "source": [
    "from scipy import sparse as sp_sparse"
   ],
   "execution_count": 23,
   "outputs": []
  },
  {
   "metadata": {
    "id": "Z6iZAfi08MxM",
    "colab_type": "code",
    "colab": {
     "base_uri": "https://localhost:8080/",
     "height": 68
    },
    "outputId": "cb168b63-5e4e-4a9c-885a-c5804efe5e32",
    "pycharm": {
     "is_executing": false
    }
   },
   "cell_type": "code",
   "source": [
    "X_train_mybag = sp_sparse.vstack([sp_sparse.csr_matrix(my_bag_of_words(text, WORDS_TO_INDEX, DICT_SIZE)) for text in X_train])\n",
    "X_val_mybag = sp_sparse.vstack([sp_sparse.csr_matrix(my_bag_of_words(text, WORDS_TO_INDEX, DICT_SIZE)) for text in X_val])\n",
    "X_test_mybag = sp_sparse.vstack([sp_sparse.csr_matrix(my_bag_of_words(text, WORDS_TO_INDEX, DICT_SIZE)) for text in X_test])\n",
    "print('X_train shape ', X_train_mybag.shape)\n",
    "print('X_val shape ', X_val_mybag.shape)\n",
    "print('X_test shape ', X_test_mybag.shape)"
   ],
   "execution_count": 24,
   "outputs": [
    {
     "name": "stdout",
     "text": [
      "X_train shape  (100000, 5000)\n",
      "X_val shape  (30000, 5000)\n",
      "X_test shape  (20000, 5000)\n"
     ],
     "output_type": "stream"
    }
   ]
  },
  {
   "metadata": {
    "id": "KOEn42tm8MxP",
    "colab_type": "text"
   },
   "cell_type": "markdown",
   "source": [
    "As you might notice, we transform the data to sparse representation, to store the useful information efficiently. There are many [types](https://docs.scipy.org/doc/scipy/reference/sparse.html) of such representations, however sklearn algorithms can work only with [csr](https://docs.scipy.org/doc/scipy/reference/generated/scipy.sparse.csr_matrix.html#scipy.sparse.csr_matrix) matrix, so we will use this one."
   ]
  },
  {
   "metadata": {
    "id": "fqgLdH_b8MxP",
    "colab_type": "text"
   },
   "cell_type": "markdown",
   "source": [
    "**(BagOfWords).** For the 11th row in *X_train_mybag* find how many non-zero elements it has. In this task the answer (variable *non_zero_elements_count*) should be a number, e.g. 20."
   ]
  },
  {
   "metadata": {
    "id": "Tut4eUiP8MxQ",
    "colab_type": "code",
    "colab": {
     "base_uri": "https://localhost:8080/",
     "height": 51
    },
    "outputId": "d25bb4eb-c7f7-47df-f6c7-8ad2f8802d78",
    "pycharm": {
     "is_executing": false
    }
   },
   "cell_type": "code",
   "source": [
    "row = X_train_mybag[10].toarray()[0]\n",
    "non_zero_elements_count = np.count_nonzero(row)"
   ],
   "execution_count": 25,
   "outputs": []
  },
  {
   "metadata": {
    "id": "nAYL86X3C-aa",
    "colab_type": "code",
    "colab": {
     "base_uri": "https://localhost:8080/",
     "height": 34
    },
    "outputId": "2818d57a-42d4-4cce-e16f-cfcfee91f19d",
    "pycharm": {
     "is_executing": false
    }
   },
   "cell_type": "code",
   "source": [
    "len(row)"
   ],
   "execution_count": 26,
   "outputs": [
    {
     "data": {
      "text/plain": "5000"
     },
     "metadata": {},
     "output_type": "execute_result",
     "execution_count": 26
    }
   ]
  },
  {
   "metadata": {
    "id": "z20-I7Af8MxT",
    "colab_type": "text"
   },
   "cell_type": "markdown",
   "source": [
    "#### TF-IDF\n",
    "\n",
    "The second approach extends the bag-of-words framework by taking into account total frequencies of words in the corpora. It helps to penalize too frequent words and provide better features space. \n",
    "\n",
    "Implement function *tfidf_features* using class [TfidfVectorizer](http://scikit-learn.org/stable/modules/generated/sklearn.feature_extraction.text.TfidfVectorizer.html) from *scikit-learn*. Use *train* corpus to train a vectorizer. Don't forget to take a look into the arguments that you can pass to it. We suggest that you filter out too rare words (occur less than in 5 titles) and too frequent words (occur more than in 90% of the titles). Also, use bigrams along with unigrams in your vocabulary. "
   ]
  },
  {
   "metadata": {
    "id": "QdOcVyFc8MxT",
    "colab_type": "code",
    "colab": {},
    "pycharm": {
     "is_executing": false
    }
   },
   "cell_type": "code",
   "source": [
    "from sklearn.feature_extraction.text import TfidfVectorizer"
   ],
   "execution_count": 27,
   "outputs": []
  },
  {
   "metadata": {
    "id": "HhQ_9NPC8MxW",
    "colab_type": "code",
    "colab": {},
    "pycharm": {
     "is_executing": false
    }
   },
   "cell_type": "code",
   "source": [
    "def tfidf_features(X_train, X_val, X_test):\n",
    "    \"\"\"\n",
    "        X_train, X_val, X_test — samples        \n",
    "        return TF-IDF vectorized representation of each sample and vocabulary\n",
    "    \"\"\"\n",
    "    # Create TF-IDF vectorizer with a proper parameters choice\n",
    "    # Fit the vectorizer on the train set\n",
    "    # Transform the train, test, and val sets and return the result\n",
    "    \n",
    "    \n",
    "    tfidf_vectorizer = TfidfVectorizer(token_pattern='(\\S+)', min_df=5, max_df=0.9, ngram_range=(1,2))\n",
    "       \n",
    "    tfidf_vectorizer.fit(X_train)\n",
    "    X_train = tfidf_vectorizer.transform(X_train)\n",
    "    X_val = tfidf_vectorizer.transform(X_val)\n",
    "    X_test = tfidf_vectorizer.transform(X_test)\n",
    "    \n",
    "    return X_train, X_val, X_test, tfidf_vectorizer.vocabulary_"
   ],
   "execution_count": 28,
   "outputs": []
  },
  {
   "metadata": {
    "id": "brUbiBFI8MxZ",
    "colab_type": "text"
   },
   "cell_type": "markdown",
   "source": [
    "Once you have done text preprocessing, always have a look at the results. Be very careful at this step, because the performance of future models will drastically depend on it. \n",
    "\n",
    "In this case, check whether you have c++ or c# in your vocabulary, as they are obviously important tokens in our tags prediction task:"
   ]
  },
  {
   "metadata": {
    "id": "IMpQ9g3Z8MxZ",
    "colab_type": "code",
    "colab": {},
    "pycharm": {
     "is_executing": false
    }
   },
   "cell_type": "code",
   "source": [
    "X_train_tfidf, X_val_tfidf, X_test_tfidf, tfidf_vocab = tfidf_features(X_train, X_val, X_test)\n",
    "tfidf_reversed_vocab = {i:word for word,i in tfidf_vocab.items()}"
   ],
   "execution_count": 29,
   "outputs": []
  },
  {
   "metadata": {
    "id": "ujudOs7t8Mxe",
    "colab_type": "code",
    "colab": {
     "base_uri": "https://localhost:8080/",
     "height": 51
    },
    "outputId": "9f030c00-4d1d-454e-84b3-ee1169af4e50",
    "pycharm": {
     "is_executing": false
    }
   },
   "cell_type": "code",
   "source": [
    "print('c++' in tfidf_vocab)\n",
    "print('c#' in tfidf_vocab)"
   ],
   "execution_count": 30,
   "outputs": [
    {
     "name": "stdout",
     "text": [
      "True\n",
      "True\n"
     ],
     "output_type": "stream"
    }
   ]
  },
  {
   "metadata": {
    "id": "N_w41s908Mxk",
    "colab_type": "text"
   },
   "cell_type": "markdown",
   "source": [
    "If you can't find it, we need to understand how did it happen that we lost them? It happened during the built-in tokenization of TfidfVectorizer. Luckily, we can influence on this process. Get back to the function above and use '(\\S+)' regexp as a *token_pattern* in the constructor of the vectorizer.  "
   ]
  },
  {
   "metadata": {
    "id": "x3I_eZa28Mxk",
    "colab_type": "text"
   },
   "cell_type": "markdown",
   "source": [
    "Now, use this transormation for the data and check again."
   ]
  },
  {
   "metadata": {
    "id": "W5tLMlJ68Mxl",
    "colab_type": "code",
    "colab": {
     "base_uri": "https://localhost:8080/",
     "height": 51
    },
    "outputId": "c9577550-7f30-427e-8f83-3ad1b5d0c8d9",
    "pycharm": {
     "is_executing": false
    }
   },
   "cell_type": "code",
   "source": [
    "print('c++' in tfidf_vocab)\n",
    "print('c#' in tfidf_vocab)"
   ],
   "execution_count": 31,
   "outputs": [
    {
     "name": "stdout",
     "text": [
      "True\n",
      "True\n"
     ],
     "output_type": "stream"
    }
   ]
  },
  {
   "metadata": {
    "id": "s31Zf4gi8Mxn",
    "colab_type": "text"
   },
   "cell_type": "markdown",
   "source": [
    "### MultiLabel classifier\n",
    "\n",
    "As we have noticed before, in this task each example can have multiple tags. To deal with such kind of prediction, we need to transform labels in a binary form and the prediction will be a mask of 0s and 1s. For this purpose it is convenient to use [MultiLabelBinarizer](http://scikit-learn.org/stable/modules/generated/sklearn.preprocessing.MultiLabelBinarizer.html) from *sklearn*."
   ]
  },
  {
   "metadata": {
    "id": "PBDg2rXb8Mxp",
    "colab_type": "code",
    "colab": {},
    "pycharm": {
     "is_executing": false
    }
   },
   "cell_type": "code",
   "source": [
    "from sklearn.preprocessing import MultiLabelBinarizer"
   ],
   "execution_count": 32,
   "outputs": []
  },
  {
   "metadata": {
    "id": "QT5zk4Fr8Mxr",
    "colab_type": "code",
    "colab": {},
    "pycharm": {
     "is_executing": false
    }
   },
   "cell_type": "code",
   "source": [
    "mlb = MultiLabelBinarizer(classes=sorted(tags_counts.keys()))\n",
    "y_train = mlb.fit_transform(y_train)\n",
    "y_val = mlb.fit_transform(y_val)"
   ],
   "execution_count": 33,
   "outputs": []
  },
  {
   "metadata": {
    "id": "Hwx4cqy9G99V",
    "colab_type": "code",
    "colab": {
     "base_uri": "https://localhost:8080/",
     "height": 102
    },
    "outputId": "711c0177-fb93-4602-de7e-99f7f68b424d",
    "pycharm": {
     "is_executing": false
    }
   },
   "cell_type": "code",
   "source": [
    "y_train[0]"
   ],
   "execution_count": 34,
   "outputs": [
    {
     "data": {
      "text/plain": "array([0, 0, 0, 0, 0, 0, 0, 0, 0, 0, 0, 0, 0, 0, 0, 0, 0, 0, 0, 0, 0, 0,\n       0, 0, 0, 0, 0, 0, 0, 0, 0, 0, 0, 0, 0, 0, 0, 0, 0, 0, 0, 0, 0, 0,\n       0, 0, 0, 0, 0, 0, 0, 0, 0, 0, 0, 0, 0, 0, 0, 0, 0, 0, 0, 0, 0, 0,\n       1, 0, 0, 0, 0, 0, 0, 0, 0, 0, 0, 0, 0, 0, 0, 0, 0, 0, 0, 0, 0, 0,\n       0, 0, 0, 0, 0, 0, 0, 0, 0, 0, 0, 0])"
     },
     "metadata": {},
     "output_type": "execute_result",
     "execution_count": 34
    }
   ]
  },
  {
   "metadata": {
    "id": "CT8t2TPN8Mxt",
    "colab_type": "text"
   },
   "cell_type": "markdown",
   "source": [
    "Implement the function *train_classifier* for training a classifier. In this task we suggest to use One-vs-Rest approach, which is implemented in [OneVsRestClassifier](http://scikit-learn.org/stable/modules/generated/sklearn.multiclass.OneVsRestClassifier.html) class. In this approach *k* classifiers (= number of tags) are trained. As a basic classifier, use [LogisticRegression](http://scikit-learn.org/stable/modules/generated/sklearn.linear_model.LogisticRegression.html). It is one of the simplest methods, but often it performs good enough in text classification tasks. It might take some time, because a number of classifiers to train is large."
   ]
  },
  {
   "metadata": {
    "id": "5lrSxsrW8Mxt",
    "colab_type": "code",
    "colab": {},
    "pycharm": {
     "is_executing": false
    }
   },
   "cell_type": "code",
   "source": [
    "from sklearn.multiclass import OneVsRestClassifier\n",
    "from sklearn.linear_model import LogisticRegression, RidgeClassifier"
   ],
   "execution_count": 35,
   "outputs": []
  },
  {
   "metadata": {
    "id": "Itk2UkWB8Mxw",
    "colab_type": "code",
    "colab": {},
    "pycharm": {
     "is_executing": false
    }
   },
   "cell_type": "code",
   "source": [
    "def train_classifier(X_train, y_train, C = 0.1, penalty = 'l1'):\n",
    "    \"\"\"\n",
    "      X_train, y_train — training data\n",
    "      \n",
    "      return: trained classifier\n",
    "    \"\"\"\n",
    "    \n",
    "    # Create and fit LogisticRegression wraped into OneVsRestClassifier.\n",
    "\n",
    "    lr = LogisticRegression(C=C, penalty=penalty, solver='liblinear')\n",
    "    oneVsRest = OneVsRestClassifier(lr)\n",
    "    oneVsRest.fit(X_train, y_train)\n",
    "    \n",
    "    return oneVsRest\n",
    "    "
   ],
   "execution_count": 36,
   "outputs": []
  },
  {
   "metadata": {
    "id": "Nmd7YJ0A8Mxz",
    "colab_type": "text"
   },
   "cell_type": "markdown",
   "source": [
    "Train the classifiers for different data transformations: *bag-of-words* and *tf-idf*."
   ]
  },
  {
   "metadata": {
    "id": "p4oJkFqJ8Mx1",
    "colab_type": "code",
    "colab": {},
    "pycharm": {
     "is_executing": false
    }
   },
   "cell_type": "code",
   "source": [
    "classifier_mybag = train_classifier(X_train_mybag, y_train)\n",
    "classifier_tfidf = train_classifier(X_train_tfidf, y_train)"
   ],
   "execution_count": 37,
   "outputs": []
  },
  {
   "metadata": {
    "id": "EtdH1K_J8Mx3",
    "colab_type": "text"
   },
   "cell_type": "markdown",
   "source": [
    "Now you can create predictions for the data. You will need two types of predictions: labels and scores."
   ]
  },
  {
   "metadata": {
    "id": "YoYfQKSa8Mx4",
    "colab_type": "code",
    "colab": {},
    "pycharm": {
     "is_executing": false
    }
   },
   "cell_type": "code",
   "source": [
    "y_val_predicted_labels_mybag = classifier_mybag.predict(X_val_mybag)\n",
    "y_val_predicted_scores_mybag = classifier_mybag.decision_function(X_val_mybag)\n",
    "\n",
    "y_val_predicted_labels_tfidf = classifier_tfidf.predict(X_val_tfidf)\n",
    "y_val_predicted_scores_tfidf = classifier_tfidf.decision_function(X_val_tfidf)"
   ],
   "execution_count": 38,
   "outputs": []
  },
  {
   "metadata": {
    "id": "hxjPQrdt8Mx7",
    "colab_type": "text"
   },
   "cell_type": "markdown",
   "source": [
    "Now take a look at how classifier, which uses TF-IDF, works for a few examples:"
   ]
  },
  {
   "metadata": {
    "id": "LVQp8r9t8Mx7",
    "colab_type": "code",
    "colab": {
     "base_uri": "https://localhost:8080/",
     "height": 272
    },
    "outputId": "cf26c858-5e6b-4e57-ab34-ea870ffb3b48",
    "pycharm": {
     "is_executing": false
    }
   },
   "cell_type": "code",
   "source": [
    "y_val_pred_inversed = mlb.inverse_transform(y_val_predicted_labels_tfidf)\n",
    "y_val_inversed = mlb.inverse_transform(y_val)\n",
    "for i in range(3):\n",
    "    print('Title:\\t{}\\nTrue labels:\\t{}\\nPredicted labels:\\t{}\\n\\n'.format(\n",
    "        X_val[i],\n",
    "        ','.join(y_val_inversed[i]),\n",
    "        ','.join(y_val_pred_inversed[i])\n",
    "    ))"
   ],
   "execution_count": 39,
   "outputs": [
    {
     "name": "stdout",
     "text": [
      "Title:\todbc_exec always fail\n",
      "True labels:\tphp,sql\n",
      "Predicted labels:\t\n",
      "\n",
      "\n",
      "Title:\taccess base classes variable within child class\n",
      "True labels:\tjavascript\n",
      "Predicted labels:\t\n",
      "\n",
      "\n",
      "Title:\tcontenttype application json required rails\n",
      "True labels:\truby,ruby-on-rails\n",
      "Predicted labels:\tjson,ruby-on-rails\n",
      "\n",
      "\n"
     ],
     "output_type": "stream"
    }
   ]
  },
  {
   "metadata": {
    "id": "QLcsj-qY8Mx9",
    "colab_type": "text"
   },
   "cell_type": "markdown",
   "source": [
    "Now, we would need to compare the results of different predictions, e.g. to see whether TF-IDF transformation helps or to try different regularization techniques in logistic regression. For all these experiments, we need to setup evaluation procedure. "
   ]
  },
  {
   "metadata": {
    "id": "3h-J2QAt8Mx-",
    "colab_type": "text"
   },
   "cell_type": "markdown",
   "source": [
    "### Evaluation\n",
    "\n",
    "To evaluate the results we will use several classification metrics:\n",
    " - [Accuracy](http://scikit-learn.org/stable/modules/generated/sklearn.metrics.accuracy_score.html)\n",
    " - [F1-score](http://scikit-learn.org/stable/modules/generated/sklearn.metrics.f1_score.html)\n",
    " - [Area under ROC-curve](http://scikit-learn.org/stable/modules/generated/sklearn.metrics.roc_auc_score.html)\n",
    " - [Area under precision-recall curve](http://scikit-learn.org/stable/modules/generated/sklearn.metrics.average_precision_score.html#sklearn.metrics.average_precision_score) \n",
    " \n",
    "Make sure you are familiar with all of them. How would you expect the things work for the multi-label scenario? Read about micro/macro/weighted averaging following the sklearn links provided above."
   ]
  },
  {
   "metadata": {
    "id": "L92WQWOj8Mx_",
    "colab_type": "code",
    "colab": {},
    "pycharm": {
     "is_executing": false
    }
   },
   "cell_type": "code",
   "source": [
    "from sklearn.metrics import accuracy_score\n",
    "from sklearn.metrics import f1_score"
   ],
   "execution_count": 40,
   "outputs": []
  },
  {
   "metadata": {
    "id": "0lR1fjdz8MyB",
    "colab_type": "text"
   },
   "cell_type": "markdown",
   "source": [
    "Implement the function *print_evaluation_scores* which calculates and prints to stdout:\n",
    " - *accuracy*\n",
    " - *F1-score macro/micro/weighted*\n",
    " - *Precision macro/micro/weighted*"
   ]
  },
  {
   "metadata": {
    "id": "r64e8wEB8MyB",
    "colab_type": "code",
    "colab": {},
    "pycharm": {
     "is_executing": false
    }
   },
   "cell_type": "code",
   "source": [
    "def print_evaluation_scores(y_val, predicted):\n",
    "    \n",
    "    print('accuracy: ')\n",
    "    accuracy_score(y_val, predicted)\n",
    "    print('f1 score: ')\n",
    "    print(f1_score(y_val, predicted, average = 'weighted'))"
   ],
   "execution_count": 41,
   "outputs": []
  },
  {
   "metadata": {
    "id": "sygmWrI48MyD",
    "colab_type": "code",
    "colab": {
     "base_uri": "https://localhost:8080/",
     "height": 85
    },
    "outputId": "01803650-1cd9-46b0-e0dd-c5dfd63b1065",
    "pycharm": {
     "is_executing": false
    }
   },
   "cell_type": "code",
   "source": [
    "print('Bag-of-words')\n",
    "print_evaluation_scores(y_val, y_val_predicted_labels_mybag)\n",
    "print('Tfidf')\n",
    "print_evaluation_scores(y_val, y_val_predicted_labels_tfidf)"
   ],
   "execution_count": 42,
   "outputs": [
    {
     "name": "stdout",
     "text": [
      "Bag-of-words\n",
      "accuracy\n",
      "f1 score\n",
      "0.6115946659713171\n",
      "Tfidf\n",
      "accuracy\n",
      "f1 score\n",
      "0.5664315341055105\n"
     ],
     "output_type": "stream"
    }
   ]
  },
  {
   "metadata": {
    "id": "tyJ4I0RC8MyG",
    "colab_type": "text"
   },
   "cell_type": "markdown",
   "source": [
    "You might also want to plot some generalization of the [ROC curve](http://scikit-learn.org/stable/modules/model_evaluation.html#receiver-operating-characteristic-roc) for the case of multi-label classification. Provided function *roc_auc* can make it for you. The input parameters of this function are:\n",
    " - true labels\n",
    " - decision functions scores\n",
    " - number of classes"
   ]
  },
  {
   "metadata": {
    "id": "3i843Y2C8MyG",
    "colab_type": "code",
    "colab": {},
    "pycharm": {
     "is_executing": false
    }
   },
   "cell_type": "code",
   "source": [
    "from metrics import roc_auc\n",
    "%matplotlib inline"
   ],
   "execution_count": 43,
   "outputs": []
  },
  {
   "metadata": {
    "id": "jpZonp2V8MyJ",
    "colab_type": "code",
    "colab": {
     "base_uri": "https://localhost:8080/",
     "height": 294
    },
    "outputId": "7450912a-dc64-4cc7-e5cf-ab8f3b15fe0a",
    "pycharm": {
     "is_executing": false
    }
   },
   "cell_type": "code",
   "source": [
    "n_classes = len(tags_counts)\n",
    "roc_auc(y_val, y_val_predicted_scores_mybag, n_classes)"
   ],
   "execution_count": 44,
   "outputs": [
    {
     "data": {
      "text/plain": "<Figure size 432x288 with 1 Axes>",
      "image/png": "[encoded data removed]"
     },
     "metadata": {
      "needs_background": "light"
     },
     "output_type": "display_data"
    }
   ]
  },
  {
   "metadata": {
    "id": "JuwJ2nJb8MyM",
    "colab_type": "code",
    "colab": {
     "base_uri": "https://localhost:8080/",
     "height": 294
    },
    "outputId": "71b5241f-82ec-4cb7-d611-231ae99eee70",
    "pycharm": {
     "is_executing": false
    }
   },
   "cell_type": "code",
   "source": [
    "n_classes = len(tags_counts)\n",
    "roc_auc(y_val, y_val_predicted_scores_tfidf, n_classes)"
   ],
   "execution_count": 45,
   "outputs": [
    {
     "data": {
      "text/plain": "<Figure size 432x288 with 1 Axes>",
      "image/png": "[encoded data removed]"
     },
     "metadata": {
      "needs_background": "light"
     },
     "output_type": "display_data"
    }
   ]
  },
  {
   "metadata": {
    "id": "cAn0SI8X8MyO",
    "colab_type": "text"
   },
   "cell_type": "markdown",
   "source": [
    "**(MultilabelClassification)** \n",
    "- compare the quality of the bag-of-words and TF-IDF approaches and chose one of them.\n",
    "- for the chosen one, try *L1* and *L2*-regularization techniques in Logistic Regression with different coefficients (e.g. C equal to 0.1, 1, 10, 100)."
   ]
  },
  {
   "metadata": {
    "id": "l7z2bW_hgquy",
    "colab_type": "code",
    "colab": {},
    "pycharm": {
     "is_executing": false
    }
   },
   "cell_type": "code",
   "source": [
    "def EvaluateDifferentModel(C, penalty) :\n",
    "    classifier_mybag = train_classifier(X_train_mybag, y_train, C, penalty)\n",
    "    classifier_tfidf = train_classifier(X_train_tfidf, y_train, C, penalty)\n",
    "    y_val_predicted_labels_mybag = classifier_mybag.predict(X_val_mybag)\n",
    "    y_val_predicted_labels_tfidf = classifier_tfidf.predict(X_val_tfidf)\n",
    "    \n",
    "    print('Bag-of-words')\n",
    "    print_evaluation_scores(y_val, y_val_predicted_labels_mybag)\n",
    "    print('Tfidf')\n",
    "    print_evaluation_scores(y_val, y_val_predicted_labels_tfidf)"
   ],
   "execution_count": 46,
   "outputs": []
  },
  {
   "metadata": {
    "id": "hiWUsBiNjPaT",
    "colab_type": "code",
    "colab": {
     "base_uri": "https://localhost:8080/",
     "height": 629
    },
    "outputId": "d1f0902f-5b1c-4b28-abbb-80d26a62990a",
    "pycharm": {
     "is_executing": false
    }
   },
   "cell_type": "code",
   "source": [
    "classifier_tfidf = train_classifier(X_train_tfidf, y_train, C=1.0, penalty='l1')\n",
    "y_test_predicted_labels_tfidf = classifier_tfidf.predict(X_test_tfidf)"
   ],
   "execution_count": 47,
   "outputs": []
  },
  {
   "metadata": {
    "id": "K7ZQCp3r8MyR",
    "colab_type": "code",
    "colab": {
     "base_uri": "https://localhost:8080/",
     "height": 187
    },
    "outputId": "69ec7d42-42b6-47c0-85f0-3d02c71099ff",
    "pycharm": {
     "is_executing": false
    }
   },
   "cell_type": "code",
   "source": [
    "test_predictions = y_test_predicted_labels_tfidf\n",
    "test_pred_inversed = mlb.inverse_transform(test_predictions)\n",
    "\n",
    "test_predictions_for_submission = '\\n'.join('%i\\t%s' % (i, ','.join(row)) for i, row in enumerate(test_pred_inversed))"
   ],
   "execution_count": 129,
   "outputs": [
    {
     "name": "stdout",
     "text": [
      "Current answer for task MultilabelClassification is:\n",
      " 0\tmysql,php\n",
      "1\tjavascript\n",
      "2\t\n",
      "3\tjavascript,jquery\n",
      "4\tandroid,java\n",
      "5\tphp,xml\n",
      "6\tjson\n",
      "7\tjava,swing\n",
      "8\tpytho...\n"
     ],
     "output_type": "stream"
    }
   ]
  },
  {
   "metadata": {
    "id": "h3-vbP4b8MyT",
    "colab_type": "text"
   },
   "cell_type": "markdown",
   "source": [
    "### Analysis of the most important features"
   ]
  },
  {
   "metadata": {
    "id": "_nVuiWcs8MyV",
    "colab_type": "text"
   },
   "cell_type": "markdown",
   "source": [
    "Finally, it is usually a good idea to look at the features (words or n-grams) that are used with the largest weigths in your logistic regression model."
   ]
  },
  {
   "metadata": {
    "id": "s5eKHSKB8MyW",
    "colab_type": "code",
    "colab": {},
    "pycharm": {
     "is_executing": false
    }
   },
   "cell_type": "code",
   "source": [
    "def print_words_for_tag(classifier, tag, tags_classes, index_to_words, all_words):\n",
    "    \"\"\"\n",
    "        classifier: trained classifier\n",
    "        tag: particular tag\n",
    "        tags_classes: a list of classes names from MultiLabelBinarizer\n",
    "        index_to_words: index_to_words transformation\n",
    "        all_words: all words in the dictionary\n",
    "        \n",
    "        return nothing, just print top 5 positive and top 5 negative words for current tag\n",
    "    \"\"\"\n",
    "    print('Tag:\\t{}'.format(tag))\n",
    "    \n",
    "    # Extract an estimator from the classifier for the given tag.\n",
    "    # Extract feature coefficients from the estimator. \n",
    "    \n",
    "    idx = tags_classes.index(tag)\n",
    "    coef=classifier_tfidf.coef_[idx]\n",
    "    cd = {i:coef[i] for i in range(len(coef))}\n",
    "    scd=sorted(cd.items(), key=lambda x: x[1], reverse=True)\n",
    "    \n",
    "    top_positive_words = [index_to_words[k[0]] for k in scd[:5]] # top-5 words sorted by the coefficiens.\n",
    "    top_negative_words = [index_to_words[k[0]] for k in scd[-5:]] # bottom-5 words  sorted by the coefficients.\n",
    "    print('Top positive words:\\t{}'.format(', '.join(top_positive_words)))\n",
    "    print('Top negative words:\\t{}\\n'.format(', '.join(top_negative_words)))"
   ],
   "execution_count": 130,
   "outputs": []
  },
  {
   "metadata": {
    "id": "F0Pv72_k8MyY",
    "colab_type": "code",
    "colab": {
     "base_uri": "https://localhost:8080/",
     "height": 221
    },
    "outputId": "cdfb5c68-f16e-4299-c87c-0df298c8b74a",
    "pycharm": {
     "is_executing": false,
     "name": "#%%\n"
    }
   },
   "cell_type": "code",
   "source": [
    "print_words_for_tag(classifier_tfidf, 'c', mlb.classes, tfidf_reversed_vocab, ALL_WORDS)\n",
    "print_words_for_tag(classifier_tfidf, 'c++', mlb.classes, tfidf_reversed_vocab, ALL_WORDS)\n",
    "print_words_for_tag(classifier_tfidf, 'linux', mlb.classes, tfidf_reversed_vocab, ALL_WORDS)\n"
   ],
   "execution_count": 131,
   "outputs": [
    {
     "name": "stdout",
     "text": [
      "Tag:\tc\n",
      "Top positive words:\tc, scanf, malloc, printf, fscanf\n",
      "Top negative words:\tc#, python, java, javascript, php\n",
      "\n",
      "Tag:\tc++\n",
      "Top positive words:\tc++, boost, qt, mfc, stdstring\n",
      "Top negative words:\tjquery, python, javascript, java, php\n",
      "\n",
      "Tag:\tlinux\n",
      "Top positive words:\tlinux, kernel space, signal, ubuntu, system call\n",
      "Top negative words:\taspnet, array, jquery, c#, javascript\n",
      "\n"
     ],
     "output_type": "stream"
    }
   ]
  }
 ]
}